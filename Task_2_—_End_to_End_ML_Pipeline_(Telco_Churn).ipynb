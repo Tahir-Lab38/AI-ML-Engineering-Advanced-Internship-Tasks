{
  "nbformat": 4,
  "nbformat_minor": 0,
  "metadata": {
    "colab": {
      "provenance": [],
      "toc_visible": true
    },
    "kernelspec": {
      "name": "python3",
      "display_name": "Python 3"
    },
    "language_info": {
      "name": "python"
    }
  },
  "cells": [
    {
      "cell_type": "markdown",
      "source": [
        "# Task 2 — End-to-End ML Pipeline (Telco Customer Churn)\n",
        "\n",
        "**Goal:** Build a reusable, production-ready ML pipeline using scikit-learn to predict **customer churn**.\n",
        "\n",
        "**We will:**\n",
        "- Load the **WA_Fn-UseC_-Telco-Customer-Churn.csv** dataset\n",
        "- Clean data (fix `TotalCharges`, drop `customerID`, map `Churn` to 0/1)\n",
        "- Build a single **Pipeline** with a **ColumnTransformer** (impute + scale + one-hot)\n",
        "- Train **Logistic Regression** & **Random Forest** with **GridSearchCV**\n",
        "- Evaluate (Accuracy, Precision, Recall, F1, ROC-AUC) + ROC/PR curves\n",
        "- **Export** the best full pipeline with `joblib` (ready for reuse)\n"
      ],
      "metadata": {
        "id": "Qyrwa4kEa_Mh"
      }
    },
    {
      "cell_type": "code",
      "source": [
        "# Environment check (Colab already has these)\n",
        "import sys, numpy as np, pandas as pd, sklearn, matplotlib\n",
        "print(\"Python:\", sys.version.split()[0])\n",
        "print(\"pandas:\", pd.__version__)\n",
        "print(\"numpy:\", np.__version__)\n",
        "print(\"sklearn:\", sklearn.__version__)\n",
        "print(\"matplotlib:\", matplotlib.__version__)\n"
      ],
      "metadata": {
        "colab": {
          "base_uri": "https://localhost:8080/"
        },
        "id": "SNK5_oSFazmO",
        "outputId": "8718e4bb-0130-4b0b-f460-f74275292691"
      },
      "execution_count": 2,
      "outputs": [
        {
          "output_type": "stream",
          "name": "stdout",
          "text": [
            "Python: 3.12.11\n",
            "pandas: 2.2.2\n",
            "numpy: 2.0.2\n",
            "sklearn: 1.6.1\n",
            "matplotlib: 3.10.0\n"
          ]
        }
      ]
    },
    {
      "cell_type": "markdown",
      "source": [
        "## 1) Load the dataset\n",
        "\n",
        "- Click the **Choose Files** button and select your CSV: `WA_Fn-UseC_-Telco-Customer-Churn.csv`.\n",
        "- If your file has a different name, just adjust it in the `pd.read_csv(...)` line.\n"
      ],
      "metadata": {
        "id": "ptAXn-FtbI7i"
      }
    },
    {
      "cell_type": "code",
      "source": [
        "from google.colab import files\n",
        "uploaded = files.upload()  # select WA_Fn-UseC_-Telco-Customer-Churn.csv\n",
        "\n",
        "import pandas as pd\n",
        "# If your file name is different, replace the key below:\n",
        "fname = list(uploaded.keys())[0]\n",
        "df = pd.read_csv(fname)\n",
        "\n",
        "print(df.shape)\n",
        "df.head(3)\n"
      ],
      "metadata": {
        "colab": {
          "base_uri": "https://localhost:8080/",
          "height": 318
        },
        "id": "vQA2nUWIbF-Y",
        "outputId": "4a58dcb2-b85e-4caa-cd0e-9f8874ee6c4c"
      },
      "execution_count": 3,
      "outputs": [
        {
          "output_type": "display_data",
          "data": {
            "text/plain": [
              "<IPython.core.display.HTML object>"
            ],
            "text/html": [
              "\n",
              "     <input type=\"file\" id=\"files-c4a72233-2963-44d8-89ac-5225dbd36935\" name=\"files[]\" multiple disabled\n",
              "        style=\"border:none\" />\n",
              "     <output id=\"result-c4a72233-2963-44d8-89ac-5225dbd36935\">\n",
              "      Upload widget is only available when the cell has been executed in the\n",
              "      current browser session. Please rerun this cell to enable.\n",
              "      </output>\n",
              "      <script>// Copyright 2017 Google LLC\n",
              "//\n",
              "// Licensed under the Apache License, Version 2.0 (the \"License\");\n",
              "// you may not use this file except in compliance with the License.\n",
              "// You may obtain a copy of the License at\n",
              "//\n",
              "//      http://www.apache.org/licenses/LICENSE-2.0\n",
              "//\n",
              "// Unless required by applicable law or agreed to in writing, software\n",
              "// distributed under the License is distributed on an \"AS IS\" BASIS,\n",
              "// WITHOUT WARRANTIES OR CONDITIONS OF ANY KIND, either express or implied.\n",
              "// See the License for the specific language governing permissions and\n",
              "// limitations under the License.\n",
              "\n",
              "/**\n",
              " * @fileoverview Helpers for google.colab Python module.\n",
              " */\n",
              "(function(scope) {\n",
              "function span(text, styleAttributes = {}) {\n",
              "  const element = document.createElement('span');\n",
              "  element.textContent = text;\n",
              "  for (const key of Object.keys(styleAttributes)) {\n",
              "    element.style[key] = styleAttributes[key];\n",
              "  }\n",
              "  return element;\n",
              "}\n",
              "\n",
              "// Max number of bytes which will be uploaded at a time.\n",
              "const MAX_PAYLOAD_SIZE = 100 * 1024;\n",
              "\n",
              "function _uploadFiles(inputId, outputId) {\n",
              "  const steps = uploadFilesStep(inputId, outputId);\n",
              "  const outputElement = document.getElementById(outputId);\n",
              "  // Cache steps on the outputElement to make it available for the next call\n",
              "  // to uploadFilesContinue from Python.\n",
              "  outputElement.steps = steps;\n",
              "\n",
              "  return _uploadFilesContinue(outputId);\n",
              "}\n",
              "\n",
              "// This is roughly an async generator (not supported in the browser yet),\n",
              "// where there are multiple asynchronous steps and the Python side is going\n",
              "// to poll for completion of each step.\n",
              "// This uses a Promise to block the python side on completion of each step,\n",
              "// then passes the result of the previous step as the input to the next step.\n",
              "function _uploadFilesContinue(outputId) {\n",
              "  const outputElement = document.getElementById(outputId);\n",
              "  const steps = outputElement.steps;\n",
              "\n",
              "  const next = steps.next(outputElement.lastPromiseValue);\n",
              "  return Promise.resolve(next.value.promise).then((value) => {\n",
              "    // Cache the last promise value to make it available to the next\n",
              "    // step of the generator.\n",
              "    outputElement.lastPromiseValue = value;\n",
              "    return next.value.response;\n",
              "  });\n",
              "}\n",
              "\n",
              "/**\n",
              " * Generator function which is called between each async step of the upload\n",
              " * process.\n",
              " * @param {string} inputId Element ID of the input file picker element.\n",
              " * @param {string} outputId Element ID of the output display.\n",
              " * @return {!Iterable<!Object>} Iterable of next steps.\n",
              " */\n",
              "function* uploadFilesStep(inputId, outputId) {\n",
              "  const inputElement = document.getElementById(inputId);\n",
              "  inputElement.disabled = false;\n",
              "\n",
              "  const outputElement = document.getElementById(outputId);\n",
              "  outputElement.innerHTML = '';\n",
              "\n",
              "  const pickedPromise = new Promise((resolve) => {\n",
              "    inputElement.addEventListener('change', (e) => {\n",
              "      resolve(e.target.files);\n",
              "    });\n",
              "  });\n",
              "\n",
              "  const cancel = document.createElement('button');\n",
              "  inputElement.parentElement.appendChild(cancel);\n",
              "  cancel.textContent = 'Cancel upload';\n",
              "  const cancelPromise = new Promise((resolve) => {\n",
              "    cancel.onclick = () => {\n",
              "      resolve(null);\n",
              "    };\n",
              "  });\n",
              "\n",
              "  // Wait for the user to pick the files.\n",
              "  const files = yield {\n",
              "    promise: Promise.race([pickedPromise, cancelPromise]),\n",
              "    response: {\n",
              "      action: 'starting',\n",
              "    }\n",
              "  };\n",
              "\n",
              "  cancel.remove();\n",
              "\n",
              "  // Disable the input element since further picks are not allowed.\n",
              "  inputElement.disabled = true;\n",
              "\n",
              "  if (!files) {\n",
              "    return {\n",
              "      response: {\n",
              "        action: 'complete',\n",
              "      }\n",
              "    };\n",
              "  }\n",
              "\n",
              "  for (const file of files) {\n",
              "    const li = document.createElement('li');\n",
              "    li.append(span(file.name, {fontWeight: 'bold'}));\n",
              "    li.append(span(\n",
              "        `(${file.type || 'n/a'}) - ${file.size} bytes, ` +\n",
              "        `last modified: ${\n",
              "            file.lastModifiedDate ? file.lastModifiedDate.toLocaleDateString() :\n",
              "                                    'n/a'} - `));\n",
              "    const percent = span('0% done');\n",
              "    li.appendChild(percent);\n",
              "\n",
              "    outputElement.appendChild(li);\n",
              "\n",
              "    const fileDataPromise = new Promise((resolve) => {\n",
              "      const reader = new FileReader();\n",
              "      reader.onload = (e) => {\n",
              "        resolve(e.target.result);\n",
              "      };\n",
              "      reader.readAsArrayBuffer(file);\n",
              "    });\n",
              "    // Wait for the data to be ready.\n",
              "    let fileData = yield {\n",
              "      promise: fileDataPromise,\n",
              "      response: {\n",
              "        action: 'continue',\n",
              "      }\n",
              "    };\n",
              "\n",
              "    // Use a chunked sending to avoid message size limits. See b/62115660.\n",
              "    let position = 0;\n",
              "    do {\n",
              "      const length = Math.min(fileData.byteLength - position, MAX_PAYLOAD_SIZE);\n",
              "      const chunk = new Uint8Array(fileData, position, length);\n",
              "      position += length;\n",
              "\n",
              "      const base64 = btoa(String.fromCharCode.apply(null, chunk));\n",
              "      yield {\n",
              "        response: {\n",
              "          action: 'append',\n",
              "          file: file.name,\n",
              "          data: base64,\n",
              "        },\n",
              "      };\n",
              "\n",
              "      let percentDone = fileData.byteLength === 0 ?\n",
              "          100 :\n",
              "          Math.round((position / fileData.byteLength) * 100);\n",
              "      percent.textContent = `${percentDone}% done`;\n",
              "\n",
              "    } while (position < fileData.byteLength);\n",
              "  }\n",
              "\n",
              "  // All done.\n",
              "  yield {\n",
              "    response: {\n",
              "      action: 'complete',\n",
              "    }\n",
              "  };\n",
              "}\n",
              "\n",
              "scope.google = scope.google || {};\n",
              "scope.google.colab = scope.google.colab || {};\n",
              "scope.google.colab._files = {\n",
              "  _uploadFiles,\n",
              "  _uploadFilesContinue,\n",
              "};\n",
              "})(self);\n",
              "</script> "
            ]
          },
          "metadata": {}
        },
        {
          "output_type": "stream",
          "name": "stdout",
          "text": [
            "Saving WA_Fn-UseC_-Telco-Customer-Churn.csv to WA_Fn-UseC_-Telco-Customer-Churn (1).csv\n",
            "(7043, 21)\n"
          ]
        },
        {
          "output_type": "execute_result",
          "data": {
            "text/plain": [
              "   customerID  gender  SeniorCitizen Partner Dependents  tenure PhoneService  \\\n",
              "0  7590-VHVEG  Female              0     Yes         No       1           No   \n",
              "1  5575-GNVDE    Male              0      No         No      34          Yes   \n",
              "2  3668-QPYBK    Male              0      No         No       2          Yes   \n",
              "\n",
              "      MultipleLines InternetService OnlineSecurity  ... DeviceProtection  \\\n",
              "0  No phone service             DSL             No  ...               No   \n",
              "1                No             DSL            Yes  ...              Yes   \n",
              "2                No             DSL            Yes  ...               No   \n",
              "\n",
              "  TechSupport StreamingTV StreamingMovies        Contract PaperlessBilling  \\\n",
              "0          No          No              No  Month-to-month              Yes   \n",
              "1          No          No              No        One year               No   \n",
              "2          No          No              No  Month-to-month              Yes   \n",
              "\n",
              "      PaymentMethod MonthlyCharges  TotalCharges Churn  \n",
              "0  Electronic check          29.85         29.85    No  \n",
              "1      Mailed check          56.95        1889.5    No  \n",
              "2      Mailed check          53.85        108.15   Yes  \n",
              "\n",
              "[3 rows x 21 columns]"
            ],
            "text/html": [
              "\n",
              "  <div id=\"df-65008833-90c4-4911-905a-073f9e8a3441\" class=\"colab-df-container\">\n",
              "    <div>\n",
              "<style scoped>\n",
              "    .dataframe tbody tr th:only-of-type {\n",
              "        vertical-align: middle;\n",
              "    }\n",
              "\n",
              "    .dataframe tbody tr th {\n",
              "        vertical-align: top;\n",
              "    }\n",
              "\n",
              "    .dataframe thead th {\n",
              "        text-align: right;\n",
              "    }\n",
              "</style>\n",
              "<table border=\"1\" class=\"dataframe\">\n",
              "  <thead>\n",
              "    <tr style=\"text-align: right;\">\n",
              "      <th></th>\n",
              "      <th>customerID</th>\n",
              "      <th>gender</th>\n",
              "      <th>SeniorCitizen</th>\n",
              "      <th>Partner</th>\n",
              "      <th>Dependents</th>\n",
              "      <th>tenure</th>\n",
              "      <th>PhoneService</th>\n",
              "      <th>MultipleLines</th>\n",
              "      <th>InternetService</th>\n",
              "      <th>OnlineSecurity</th>\n",
              "      <th>...</th>\n",
              "      <th>DeviceProtection</th>\n",
              "      <th>TechSupport</th>\n",
              "      <th>StreamingTV</th>\n",
              "      <th>StreamingMovies</th>\n",
              "      <th>Contract</th>\n",
              "      <th>PaperlessBilling</th>\n",
              "      <th>PaymentMethod</th>\n",
              "      <th>MonthlyCharges</th>\n",
              "      <th>TotalCharges</th>\n",
              "      <th>Churn</th>\n",
              "    </tr>\n",
              "  </thead>\n",
              "  <tbody>\n",
              "    <tr>\n",
              "      <th>0</th>\n",
              "      <td>7590-VHVEG</td>\n",
              "      <td>Female</td>\n",
              "      <td>0</td>\n",
              "      <td>Yes</td>\n",
              "      <td>No</td>\n",
              "      <td>1</td>\n",
              "      <td>No</td>\n",
              "      <td>No phone service</td>\n",
              "      <td>DSL</td>\n",
              "      <td>No</td>\n",
              "      <td>...</td>\n",
              "      <td>No</td>\n",
              "      <td>No</td>\n",
              "      <td>No</td>\n",
              "      <td>No</td>\n",
              "      <td>Month-to-month</td>\n",
              "      <td>Yes</td>\n",
              "      <td>Electronic check</td>\n",
              "      <td>29.85</td>\n",
              "      <td>29.85</td>\n",
              "      <td>No</td>\n",
              "    </tr>\n",
              "    <tr>\n",
              "      <th>1</th>\n",
              "      <td>5575-GNVDE</td>\n",
              "      <td>Male</td>\n",
              "      <td>0</td>\n",
              "      <td>No</td>\n",
              "      <td>No</td>\n",
              "      <td>34</td>\n",
              "      <td>Yes</td>\n",
              "      <td>No</td>\n",
              "      <td>DSL</td>\n",
              "      <td>Yes</td>\n",
              "      <td>...</td>\n",
              "      <td>Yes</td>\n",
              "      <td>No</td>\n",
              "      <td>No</td>\n",
              "      <td>No</td>\n",
              "      <td>One year</td>\n",
              "      <td>No</td>\n",
              "      <td>Mailed check</td>\n",
              "      <td>56.95</td>\n",
              "      <td>1889.5</td>\n",
              "      <td>No</td>\n",
              "    </tr>\n",
              "    <tr>\n",
              "      <th>2</th>\n",
              "      <td>3668-QPYBK</td>\n",
              "      <td>Male</td>\n",
              "      <td>0</td>\n",
              "      <td>No</td>\n",
              "      <td>No</td>\n",
              "      <td>2</td>\n",
              "      <td>Yes</td>\n",
              "      <td>No</td>\n",
              "      <td>DSL</td>\n",
              "      <td>Yes</td>\n",
              "      <td>...</td>\n",
              "      <td>No</td>\n",
              "      <td>No</td>\n",
              "      <td>No</td>\n",
              "      <td>No</td>\n",
              "      <td>Month-to-month</td>\n",
              "      <td>Yes</td>\n",
              "      <td>Mailed check</td>\n",
              "      <td>53.85</td>\n",
              "      <td>108.15</td>\n",
              "      <td>Yes</td>\n",
              "    </tr>\n",
              "  </tbody>\n",
              "</table>\n",
              "<p>3 rows × 21 columns</p>\n",
              "</div>\n",
              "    <div class=\"colab-df-buttons\">\n",
              "\n",
              "  <div class=\"colab-df-container\">\n",
              "    <button class=\"colab-df-convert\" onclick=\"convertToInteractive('df-65008833-90c4-4911-905a-073f9e8a3441')\"\n",
              "            title=\"Convert this dataframe to an interactive table.\"\n",
              "            style=\"display:none;\">\n",
              "\n",
              "  <svg xmlns=\"http://www.w3.org/2000/svg\" height=\"24px\" viewBox=\"0 -960 960 960\">\n",
              "    <path d=\"M120-120v-720h720v720H120Zm60-500h600v-160H180v160Zm220 220h160v-160H400v160Zm0 220h160v-160H400v160ZM180-400h160v-160H180v160Zm440 0h160v-160H620v160ZM180-180h160v-160H180v160Zm440 0h160v-160H620v160Z\"/>\n",
              "  </svg>\n",
              "    </button>\n",
              "\n",
              "  <style>\n",
              "    .colab-df-container {\n",
              "      display:flex;\n",
              "      gap: 12px;\n",
              "    }\n",
              "\n",
              "    .colab-df-convert {\n",
              "      background-color: #E8F0FE;\n",
              "      border: none;\n",
              "      border-radius: 50%;\n",
              "      cursor: pointer;\n",
              "      display: none;\n",
              "      fill: #1967D2;\n",
              "      height: 32px;\n",
              "      padding: 0 0 0 0;\n",
              "      width: 32px;\n",
              "    }\n",
              "\n",
              "    .colab-df-convert:hover {\n",
              "      background-color: #E2EBFA;\n",
              "      box-shadow: 0px 1px 2px rgba(60, 64, 67, 0.3), 0px 1px 3px 1px rgba(60, 64, 67, 0.15);\n",
              "      fill: #174EA6;\n",
              "    }\n",
              "\n",
              "    .colab-df-buttons div {\n",
              "      margin-bottom: 4px;\n",
              "    }\n",
              "\n",
              "    [theme=dark] .colab-df-convert {\n",
              "      background-color: #3B4455;\n",
              "      fill: #D2E3FC;\n",
              "    }\n",
              "\n",
              "    [theme=dark] .colab-df-convert:hover {\n",
              "      background-color: #434B5C;\n",
              "      box-shadow: 0px 1px 3px 1px rgba(0, 0, 0, 0.15);\n",
              "      filter: drop-shadow(0px 1px 2px rgba(0, 0, 0, 0.3));\n",
              "      fill: #FFFFFF;\n",
              "    }\n",
              "  </style>\n",
              "\n",
              "    <script>\n",
              "      const buttonEl =\n",
              "        document.querySelector('#df-65008833-90c4-4911-905a-073f9e8a3441 button.colab-df-convert');\n",
              "      buttonEl.style.display =\n",
              "        google.colab.kernel.accessAllowed ? 'block' : 'none';\n",
              "\n",
              "      async function convertToInteractive(key) {\n",
              "        const element = document.querySelector('#df-65008833-90c4-4911-905a-073f9e8a3441');\n",
              "        const dataTable =\n",
              "          await google.colab.kernel.invokeFunction('convertToInteractive',\n",
              "                                                    [key], {});\n",
              "        if (!dataTable) return;\n",
              "\n",
              "        const docLinkHtml = 'Like what you see? Visit the ' +\n",
              "          '<a target=\"_blank\" href=https://colab.research.google.com/notebooks/data_table.ipynb>data table notebook</a>'\n",
              "          + ' to learn more about interactive tables.';\n",
              "        element.innerHTML = '';\n",
              "        dataTable['output_type'] = 'display_data';\n",
              "        await google.colab.output.renderOutput(dataTable, element);\n",
              "        const docLink = document.createElement('div');\n",
              "        docLink.innerHTML = docLinkHtml;\n",
              "        element.appendChild(docLink);\n",
              "      }\n",
              "    </script>\n",
              "  </div>\n",
              "\n",
              "\n",
              "    <div id=\"df-062c8e3a-7fb9-4ad7-a38e-39a28c498738\">\n",
              "      <button class=\"colab-df-quickchart\" onclick=\"quickchart('df-062c8e3a-7fb9-4ad7-a38e-39a28c498738')\"\n",
              "                title=\"Suggest charts\"\n",
              "                style=\"display:none;\">\n",
              "\n",
              "<svg xmlns=\"http://www.w3.org/2000/svg\" height=\"24px\"viewBox=\"0 0 24 24\"\n",
              "     width=\"24px\">\n",
              "    <g>\n",
              "        <path d=\"M19 3H5c-1.1 0-2 .9-2 2v14c0 1.1.9 2 2 2h14c1.1 0 2-.9 2-2V5c0-1.1-.9-2-2-2zM9 17H7v-7h2v7zm4 0h-2V7h2v10zm4 0h-2v-4h2v4z\"/>\n",
              "    </g>\n",
              "</svg>\n",
              "      </button>\n",
              "\n",
              "<style>\n",
              "  .colab-df-quickchart {\n",
              "      --bg-color: #E8F0FE;\n",
              "      --fill-color: #1967D2;\n",
              "      --hover-bg-color: #E2EBFA;\n",
              "      --hover-fill-color: #174EA6;\n",
              "      --disabled-fill-color: #AAA;\n",
              "      --disabled-bg-color: #DDD;\n",
              "  }\n",
              "\n",
              "  [theme=dark] .colab-df-quickchart {\n",
              "      --bg-color: #3B4455;\n",
              "      --fill-color: #D2E3FC;\n",
              "      --hover-bg-color: #434B5C;\n",
              "      --hover-fill-color: #FFFFFF;\n",
              "      --disabled-bg-color: #3B4455;\n",
              "      --disabled-fill-color: #666;\n",
              "  }\n",
              "\n",
              "  .colab-df-quickchart {\n",
              "    background-color: var(--bg-color);\n",
              "    border: none;\n",
              "    border-radius: 50%;\n",
              "    cursor: pointer;\n",
              "    display: none;\n",
              "    fill: var(--fill-color);\n",
              "    height: 32px;\n",
              "    padding: 0;\n",
              "    width: 32px;\n",
              "  }\n",
              "\n",
              "  .colab-df-quickchart:hover {\n",
              "    background-color: var(--hover-bg-color);\n",
              "    box-shadow: 0 1px 2px rgba(60, 64, 67, 0.3), 0 1px 3px 1px rgba(60, 64, 67, 0.15);\n",
              "    fill: var(--button-hover-fill-color);\n",
              "  }\n",
              "\n",
              "  .colab-df-quickchart-complete:disabled,\n",
              "  .colab-df-quickchart-complete:disabled:hover {\n",
              "    background-color: var(--disabled-bg-color);\n",
              "    fill: var(--disabled-fill-color);\n",
              "    box-shadow: none;\n",
              "  }\n",
              "\n",
              "  .colab-df-spinner {\n",
              "    border: 2px solid var(--fill-color);\n",
              "    border-color: transparent;\n",
              "    border-bottom-color: var(--fill-color);\n",
              "    animation:\n",
              "      spin 1s steps(1) infinite;\n",
              "  }\n",
              "\n",
              "  @keyframes spin {\n",
              "    0% {\n",
              "      border-color: transparent;\n",
              "      border-bottom-color: var(--fill-color);\n",
              "      border-left-color: var(--fill-color);\n",
              "    }\n",
              "    20% {\n",
              "      border-color: transparent;\n",
              "      border-left-color: var(--fill-color);\n",
              "      border-top-color: var(--fill-color);\n",
              "    }\n",
              "    30% {\n",
              "      border-color: transparent;\n",
              "      border-left-color: var(--fill-color);\n",
              "      border-top-color: var(--fill-color);\n",
              "      border-right-color: var(--fill-color);\n",
              "    }\n",
              "    40% {\n",
              "      border-color: transparent;\n",
              "      border-right-color: var(--fill-color);\n",
              "      border-top-color: var(--fill-color);\n",
              "    }\n",
              "    60% {\n",
              "      border-color: transparent;\n",
              "      border-right-color: var(--fill-color);\n",
              "    }\n",
              "    80% {\n",
              "      border-color: transparent;\n",
              "      border-right-color: var(--fill-color);\n",
              "      border-bottom-color: var(--fill-color);\n",
              "    }\n",
              "    90% {\n",
              "      border-color: transparent;\n",
              "      border-bottom-color: var(--fill-color);\n",
              "    }\n",
              "  }\n",
              "</style>\n",
              "\n",
              "      <script>\n",
              "        async function quickchart(key) {\n",
              "          const quickchartButtonEl =\n",
              "            document.querySelector('#' + key + ' button');\n",
              "          quickchartButtonEl.disabled = true;  // To prevent multiple clicks.\n",
              "          quickchartButtonEl.classList.add('colab-df-spinner');\n",
              "          try {\n",
              "            const charts = await google.colab.kernel.invokeFunction(\n",
              "                'suggestCharts', [key], {});\n",
              "          } catch (error) {\n",
              "            console.error('Error during call to suggestCharts:', error);\n",
              "          }\n",
              "          quickchartButtonEl.classList.remove('colab-df-spinner');\n",
              "          quickchartButtonEl.classList.add('colab-df-quickchart-complete');\n",
              "        }\n",
              "        (() => {\n",
              "          let quickchartButtonEl =\n",
              "            document.querySelector('#df-062c8e3a-7fb9-4ad7-a38e-39a28c498738 button');\n",
              "          quickchartButtonEl.style.display =\n",
              "            google.colab.kernel.accessAllowed ? 'block' : 'none';\n",
              "        })();\n",
              "      </script>\n",
              "    </div>\n",
              "\n",
              "    </div>\n",
              "  </div>\n"
            ],
            "application/vnd.google.colaboratory.intrinsic+json": {
              "type": "dataframe",
              "variable_name": "df"
            }
          },
          "metadata": {},
          "execution_count": 3
        }
      ]
    },
    {
      "cell_type": "markdown",
      "source": [
        "## 2) Basic cleaning & target preparation\n",
        "\n",
        "- Drop `customerID` (identifier, not a feature)\n",
        "- Coerce `TotalCharges` to numeric (it may contain blanks)\n",
        "- Ensure `Churn` is 0/1 (No→0, Yes→1)\n"
      ],
      "metadata": {
        "id": "4EckOA_cbUtR"
      }
    },
    {
      "cell_type": "code",
      "source": [
        "import numpy as np\n",
        "\n",
        "# Drop ID columns if present\n",
        "for col in ['customerID', 'CustomerID', 'customer_id']:\n",
        "    if col in df.columns:\n",
        "        df.drop(columns=[col], inplace=True)\n",
        "\n",
        "# Coerce TotalCharges to numeric; invalid parses become NaN\n",
        "if 'TotalCharges' in df.columns:\n",
        "    df['TotalCharges'] = pd.to_numeric(df['TotalCharges'], errors='coerce')\n",
        "\n",
        "# Standardize target name & map Yes/No -> 1/0\n",
        "if 'Churn' not in df.columns:\n",
        "    matches = [c for c in df.columns if c.strip().lower() == 'churn']\n",
        "    if not matches:\n",
        "        raise ValueError(\"Target column 'Churn' not found.\")\n",
        "    df.rename(columns={matches[0]: 'Churn'}, inplace=True)\n",
        "\n",
        "if df['Churn'].dtype == 'object':\n",
        "    df['Churn'] = df['Churn'].str.strip().str.lower().map({'yes':1, 'no':0})\n",
        "\n",
        "# Drop rows missing the target (shouldn't happen here, but safe)\n",
        "df.dropna(subset=['Churn'], inplace=True)\n",
        "df['Churn'] = df['Churn'].astype(int)\n",
        "\n",
        "print(\"Shape:\", df.shape)\n",
        "print(\"Class balance (0=No, 1=Yes):\")\n",
        "print(df['Churn'].value_counts(normalize=True).rename('ratio').round(3))\n"
      ],
      "metadata": {
        "colab": {
          "base_uri": "https://localhost:8080/"
        },
        "id": "9cqDKFbEbMvI",
        "outputId": "a7cb88ba-5607-49f6-b24c-f897c53faae3"
      },
      "execution_count": 4,
      "outputs": [
        {
          "output_type": "stream",
          "name": "stdout",
          "text": [
            "Shape: (7043, 20)\n",
            "Class balance (0=No, 1=Yes):\n",
            "Churn\n",
            "0    0.735\n",
            "1    0.265\n",
            "Name: ratio, dtype: float64\n"
          ]
        }
      ]
    },
    {
      "cell_type": "markdown",
      "source": [
        "## 3) Split data & detect feature types\n",
        "\n",
        "- Split into train/test with stratification\n",
        "- Detect **numeric** vs **categorical** features automatically\n"
      ],
      "metadata": {
        "id": "zTxwSnfQbein"
      }
    },
    {
      "cell_type": "code",
      "source": [
        "from sklearn.model_selection import train_test_split\n",
        "\n",
        "X = df.drop(columns=['Churn'])\n",
        "y = df['Churn']\n",
        "\n",
        "# Numeric vs categorical\n",
        "numeric_features = X.select_dtypes(include=[np.number]).columns.tolist()\n",
        "categorical_features = X.select_dtypes(exclude=[np.number]).columns.tolist()\n",
        "\n",
        "print(\"Numeric features:\", len(numeric_features), numeric_features[:10])\n",
        "print(\"Categorical features:\", len(categorical_features), categorical_features[:10])\n",
        "\n",
        "X_train, X_test, y_train, y_test = train_test_split(\n",
        "    X, y, test_size=0.20, random_state=42, stratify=y\n",
        ")\n",
        "X_train.shape, X_test.shape\n"
      ],
      "metadata": {
        "colab": {
          "base_uri": "https://localhost:8080/"
        },
        "id": "lCvLz0jHbcUE",
        "outputId": "104a224b-8208-48e9-d183-f155bb61f34d"
      },
      "execution_count": 5,
      "outputs": [
        {
          "output_type": "stream",
          "name": "stdout",
          "text": [
            "Numeric features: 4 ['SeniorCitizen', 'tenure', 'MonthlyCharges', 'TotalCharges']\n",
            "Categorical features: 15 ['gender', 'Partner', 'Dependents', 'PhoneService', 'MultipleLines', 'InternetService', 'OnlineSecurity', 'OnlineBackup', 'DeviceProtection', 'TechSupport']\n"
          ]
        },
        {
          "output_type": "execute_result",
          "data": {
            "text/plain": [
              "((5634, 19), (1409, 19))"
            ]
          },
          "metadata": {},
          "execution_count": 5
        }
      ]
    },
    {
      "cell_type": "markdown",
      "source": [
        "## 4) Preprocessing (ColumnTransformer inside Pipeline)\n",
        "\n",
        "- **Numeric**: median imputation → `StandardScaler`\n",
        "- **Categorical**: most_frequent imputation → `OneHotEncoder(handle_unknown='ignore')`\n",
        "- Combined via `ColumnTransformer`, then wrapped in a single `Pipeline`\n"
      ],
      "metadata": {
        "id": "n7MmYeZCbjVK"
      }
    },
    {
      "cell_type": "code",
      "source": [
        "from sklearn.compose import ColumnTransformer\n",
        "from sklearn.preprocessing import OneHotEncoder, StandardScaler\n",
        "from sklearn.impute import SimpleImputer\n",
        "from sklearn.pipeline import Pipeline\n",
        "\n",
        "numeric_pipe = Pipeline(steps=[\n",
        "    ('imputer', SimpleImputer(strategy='median')),\n",
        "    ('scaler',  StandardScaler())\n",
        "])\n",
        "\n",
        "categorical_pipe = Pipeline(steps=[\n",
        "    ('imputer', SimpleImputer(strategy='most_frequent')),\n",
        "    # Use dense output for compatibility with tree models\n",
        "    ('ohe',     OneHotEncoder(handle_unknown='ignore'))\n",
        "])\n",
        "\n",
        "preprocess = ColumnTransformer(\n",
        "    transformers=[\n",
        "        ('num', numeric_pipe, numeric_features),\n",
        "        ('cat', categorical_pipe, categorical_features)\n",
        "    ],\n",
        "    remainder='drop'\n",
        ")"
      ],
      "metadata": {
        "id": "3lslz4UYbgqQ"
      },
      "execution_count": 7,
      "outputs": []
    },
    {
      "cell_type": "markdown",
      "source": [
        "## 5) Model training with GridSearchCV\n",
        "\n",
        "We’ll search over:\n",
        "- **Logistic Regression** (L1/L2, different C)\n",
        "- **Random Forest** (n_estimators, max_depth, min_samples_split)\n",
        "\n",
        "Scoring: **ROC-AUC**, 5-fold **StratifiedKFold**\n"
      ],
      "metadata": {
        "id": "TNej-zkLb4Ks"
      }
    },
    {
      "cell_type": "code",
      "source": [
        "from sklearn.linear_model import LogisticRegression\n",
        "from sklearn.ensemble import RandomForestClassifier\n",
        "from sklearn.model_selection import GridSearchCV, StratifiedKFold\n",
        "\n",
        "pipe = Pipeline(steps=[\n",
        "    ('preprocess', preprocess),\n",
        "    ('clf', LogisticRegression(max_iter=2000, class_weight='balanced', solver='liblinear'))\n",
        "])\n",
        "\n",
        "cv = StratifiedKFold(n_splits=5, shuffle=True, random_state=42)\n",
        "\n",
        "param_grid = [\n",
        "    {\n",
        "        'clf': [LogisticRegression(max_iter=2000, class_weight='balanced', solver='liblinear')],\n",
        "        'clf__C': [0.25, 0.5, 1.0, 2.0],\n",
        "        'clf__penalty': ['l1', 'l2']\n",
        "    },\n",
        "    {\n",
        "        'clf': [RandomForestClassifier(random_state=42, class_weight='balanced')],\n",
        "        'clf__n_estimators': [300, 600],\n",
        "        'clf__max_depth': [None, 12, 16],\n",
        "        'clf__min_samples_split': [2, 5]\n",
        "    }\n",
        "]\n",
        "\n",
        "grid = GridSearchCV(\n",
        "    estimator=pipe,\n",
        "    param_grid=param_grid,\n",
        "    scoring='roc_auc',\n",
        "    cv=cv,\n",
        "    n_jobs=-1,\n",
        "    verbose=1\n",
        ")\n",
        "\n",
        "grid.fit(X_train, y_train)\n",
        "best_model = grid.best_estimator_\n",
        "\n",
        "print(\"Best CV ROC-AUC:\", grid.best_score_)\n",
        "print(\"Best Params:\", grid.best_params_)\n"
      ],
      "metadata": {
        "colab": {
          "base_uri": "https://localhost:8080/"
        },
        "id": "j6znZvE_blzU",
        "outputId": "8f967149-2c88-4ff0-e953-458d76849c31"
      },
      "execution_count": 8,
      "outputs": [
        {
          "output_type": "stream",
          "name": "stdout",
          "text": [
            "Fitting 5 folds for each of 20 candidates, totalling 100 fits\n",
            "Best CV ROC-AUC: 0.8460294867428402\n",
            "Best Params: {'clf': LogisticRegression(class_weight='balanced', max_iter=2000, solver='liblinear'), 'clf__C': 2.0, 'clf__penalty': 'l2'}\n"
          ]
        }
      ]
    },
    {
      "cell_type": "markdown",
      "source": [
        "## 6) Evaluation on test data\n",
        "\n",
        "We’ll report:\n",
        "- Accuracy, Precision, Recall, F1, ROC-AUC\n",
        "- Confusion matrix\n",
        "- ROC and Precision-Recall curves\n"
      ],
      "metadata": {
        "id": "W345cSDAcH-g"
      }
    },
    {
      "cell_type": "code",
      "source": [
        "from sklearn.metrics import (accuracy_score, precision_score, recall_score,\n",
        "                             f1_score, roc_auc_score, classification_report,\n",
        "                             confusion_matrix, RocCurveDisplay, PrecisionRecallDisplay)\n",
        "import matplotlib.pyplot as plt\n",
        "\n",
        "y_pred = best_model.predict(X_test)\n",
        "y_prob = best_model.predict_proba(X_test)[:, 1]\n",
        "\n",
        "acc  = accuracy_score(y_test, y_pred)\n",
        "prec = precision_score(y_test, y_pred)\n",
        "rec  = recall_score(y_test, y_pred)\n",
        "f1   = f1_score(y_test, y_pred)\n",
        "auc  = roc_auc_score(y_test, y_prob)\n",
        "\n",
        "print(f\"Accuracy : {acc:.4f}\")\n",
        "print(f\"Precision: {prec:.4f}\")\n",
        "print(f\"Recall   : {rec:.4f}\")\n",
        "print(f\"F1-score : {f1:.4f}\")\n",
        "print(f\"ROC AUC  : {auc:.4f}\\n\")\n",
        "\n",
        "print(\"Classification report:\\n\", classification_report(y_test, y_pred))\n",
        "print(\"Confusion matrix:\\n\", confusion_matrix(y_test, y_pred))\n"
      ],
      "metadata": {
        "colab": {
          "base_uri": "https://localhost:8080/"
        },
        "id": "eig-7v2cb6CM",
        "outputId": "e9c73d0c-0918-4eb2-8834-e4a095935a35"
      },
      "execution_count": 9,
      "outputs": [
        {
          "output_type": "stream",
          "name": "stdout",
          "text": [
            "Accuracy : 0.7395\n",
            "Precision: 0.5060\n",
            "Recall   : 0.7861\n",
            "F1-score : 0.6157\n",
            "ROC AUC  : 0.8413\n",
            "\n",
            "Classification report:\n",
            "               precision    recall  f1-score   support\n",
            "\n",
            "           0       0.90      0.72      0.80      1035\n",
            "           1       0.51      0.79      0.62       374\n",
            "\n",
            "    accuracy                           0.74      1409\n",
            "   macro avg       0.70      0.75      0.71      1409\n",
            "weighted avg       0.80      0.74      0.75      1409\n",
            "\n",
            "Confusion matrix:\n",
            " [[748 287]\n",
            " [ 80 294]]\n"
          ]
        }
      ]
    },
    {
      "cell_type": "code",
      "source": [
        "# ROC Curve\n",
        "RocCurveDisplay.from_estimator(best_model, X_test, y_test)\n",
        "plt.title(\"ROC Curve — Best Pipeline\")\n",
        "plt.show()\n"
      ],
      "metadata": {
        "colab": {
          "base_uri": "https://localhost:8080/",
          "height": 472
        },
        "id": "CU2vWFuScNkM",
        "outputId": "9e897a6a-3d32-4743-cf51-ed435a72e642"
      },
      "execution_count": 10,
      "outputs": [
        {
          "output_type": "display_data",
          "data": {
            "text/plain": [
              "<Figure size 640x480 with 1 Axes>"
            ],
            "image/png": "[encoded data removed]"
          },
          "metadata": {}
        }
      ]
    },
    {
      "cell_type": "code",
      "source": [
        "# Precision-Recall Curve\n",
        "PrecisionRecallDisplay.from_estimator(best_model, X_test, y_test)\n",
        "plt.title(\"Precision-Recall Curve — Best Pipeline\")\n",
        "plt.show()\n"
      ],
      "metadata": {
        "colab": {
          "base_uri": "https://localhost:8080/",
          "height": 472
        },
        "id": "URQMGQ5icPIq",
        "outputId": "633a5b8e-8f6e-4306-ffd6-8042dc327dea"
      },
      "execution_count": 11,
      "outputs": [
        {
          "output_type": "display_data",
          "data": {
            "text/plain": [
              "<Figure size 640x480 with 1 Axes>"
            ],
            "image/png": "[encoded data removed]"
          },
          "metadata": {}
        }
      ]
    },
    {
      "cell_type": "markdown",
      "source": [
        "## 7) (Optional) What mattered? Feature importances / coefficients\n",
        "\n",
        "- If the best model is **RandomForest** → show feature importances  \n",
        "- If the best model is **LogisticRegression** → show coefficients\n"
      ],
      "metadata": {
        "id": "p5jsAFz6cRKJ"
      }
    },
    {
      "cell_type": "code",
      "source": [
        "# Build feature names after preprocessing\n",
        "ohe = best_model.named_steps['preprocess'].named_transformers_['cat'].named_steps['ohe']\n",
        "cat_names = ohe.get_feature_names_out(categorical_features)\n",
        "num_names = np.array(numeric_features)\n",
        "feature_names = np.concatenate([num_names, cat_names])\n",
        "\n",
        "final_clf = best_model.named_steps['clf']\n",
        "\n",
        "if isinstance(final_clf, RandomForestClassifier):\n",
        "    importances = final_clf.feature_importances_\n",
        "    idx = np.argsort(importances)[::-1][:20]\n",
        "    print(\"Top features (RF):\")\n",
        "    for i in idx:\n",
        "        print(f\"{feature_names[i]:<35} {importances[i]:.4f}\")\n",
        "elif isinstance(final_clf, LogisticRegression):\n",
        "    coefs = final_clf.coef_.ravel()\n",
        "    idx = np.argsort(np.abs(coefs))[::-1][:20]\n",
        "    print(\"Top coefficients (|LR|):\")\n",
        "    for i in idx:\n",
        "        print(f\"{feature_names[i]:<35} {coefs[i]:.4f}\")\n",
        "else:\n",
        "    print(\"Introspection not implemented for\", type(final_clf))\n"
      ],
      "metadata": {
        "colab": {
          "base_uri": "https://localhost:8080/"
        },
        "id": "9P8k7xiMcSJf",
        "outputId": "80dfc75a-5ed2-4cf3-c15d-24d5955353e6"
      },
      "execution_count": 12,
      "outputs": [
        {
          "output_type": "stream",
          "name": "stdout",
          "text": [
            "Top coefficients (|LR|):\n",
            "tenure                              -1.1560\n",
            "MonthlyCharges                      -1.1332\n",
            "InternetService_Fiber optic         0.9227\n",
            "Contract_Two year                   -0.7989\n",
            "InternetService_DSL                 -0.7869\n",
            "Contract_Month-to-month             0.6453\n",
            "TotalCharges                        0.4905\n",
            "StreamingMovies_Yes                 0.3768\n",
            "StreamingMovies_No internet service -0.3749\n",
            "TechSupport_No internet service     -0.3749\n",
            "DeviceProtection_No internet service -0.3749\n",
            "StreamingTV_No internet service     -0.3749\n",
            "InternetService_No                  -0.3749\n",
            "OnlineBackup_No internet service    -0.3749\n",
            "OnlineSecurity_No internet service  -0.3749\n",
            "StreamingTV_Yes                     0.3634\n",
            "PaperlessBilling_No                 -0.2872\n",
            "StreamingMovies_No                  -0.2410\n",
            "Dependents_Yes                      -0.2346\n",
            "StreamingTV_No                      -0.2277\n"
          ]
        }
      ]
    },
    {
      "cell_type": "markdown",
      "source": [
        "## 8) Export the **complete pipeline** with `joblib`\n",
        "\n",
        "This saves the *full* preprocessing + model pipeline, ready to load and predict on raw data.\n"
      ],
      "metadata": {
        "id": "bzqbnTIzcWU7"
      }
    },
    {
      "cell_type": "code",
      "source": [
        "import joblib\n",
        "joblib.dump(best_model, \"telco_churn_pipeline.joblib\")\n",
        "print(\"Saved: telco_churn_pipeline.joblib\")\n"
      ],
      "metadata": {
        "colab": {
          "base_uri": "https://localhost:8080/"
        },
        "id": "Ck-UWlmGcWzK",
        "outputId": "a9e22d33-0bb1-43ab-972d-c4665c7c719d"
      },
      "execution_count": 13,
      "outputs": [
        {
          "output_type": "stream",
          "name": "stdout",
          "text": [
            "Saved: telco_churn_pipeline.joblib\n"
          ]
        }
      ]
    },
    {
      "cell_type": "code",
      "source": [
        "# (Optional) Download the artifact to your machine from Colab\n",
        "from google.colab import files\n",
        "files.download(\"telco_churn_pipeline.joblib\")\n"
      ],
      "metadata": {
        "colab": {
          "base_uri": "https://localhost:8080/",
          "height": 17
        },
        "id": "woubAcjLcYIJ",
        "outputId": "d4a84cd3-a2c1-4612-e7d2-e5a21355401d"
      },
      "execution_count": 14,
      "outputs": [
        {
          "output_type": "display_data",
          "data": {
            "text/plain": [
              "<IPython.core.display.Javascript object>"
            ],
            "application/javascript": [
              "\n",
              "    async function download(id, filename, size) {\n",
              "      if (!google.colab.kernel.accessAllowed) {\n",
              "        return;\n",
              "      }\n",
              "      const div = document.createElement('div');\n",
              "      const label = document.createElement('label');\n",
              "      label.textContent = `Downloading \"${filename}\": `;\n",
              "      div.appendChild(label);\n",
              "      const progress = document.createElement('progress');\n",
              "      progress.max = size;\n",
              "      div.appendChild(progress);\n",
              "      document.body.appendChild(div);\n",
              "\n",
              "      const buffers = [];\n",
              "      let downloaded = 0;\n",
              "\n",
              "      const channel = await google.colab.kernel.comms.open(id);\n",
              "      // Send a message to notify the kernel that we're ready.\n",
              "      channel.send({})\n",
              "\n",
              "      for await (const message of channel.messages) {\n",
              "        // Send a message to notify the kernel that we're ready.\n",
              "        channel.send({})\n",
              "        if (message.buffers) {\n",
              "          for (const buffer of message.buffers) {\n",
              "            buffers.push(buffer);\n",
              "            downloaded += buffer.byteLength;\n",
              "            progress.value = downloaded;\n",
              "          }\n",
              "        }\n",
              "      }\n",
              "      const blob = new Blob(buffers, {type: 'application/binary'});\n",
              "      const a = document.createElement('a');\n",
              "      a.href = window.URL.createObjectURL(blob);\n",
              "      a.download = filename;\n",
              "      div.appendChild(a);\n",
              "      a.click();\n",
              "      div.remove();\n",
              "    }\n",
              "  "
            ]
          },
          "metadata": {}
        },
        {
          "output_type": "display_data",
          "data": {
            "text/plain": [
              "<IPython.core.display.Javascript object>"
            ],
            "application/javascript": [
              "download(\"download_fbc29b6c-5176-4607-bbe5-d73016222bed\", \"telco_churn_pipeline.joblib\", 8582)"
            ]
          },
          "metadata": {}
        }
      ]
    },
    {
      "cell_type": "markdown",
      "source": [
        "## 9) Reuse demo — load and predict later\n",
        "\n",
        "Loads the saved pipeline and predicts on **raw** rows (no need to re-preprocess).\n"
      ],
      "metadata": {
        "id": "bfkx0Sp2ccdV"
      }
    },
    {
      "cell_type": "code",
      "source": [
        "import joblib\n",
        "loaded = joblib.load(\"telco_churn_pipeline.joblib\")\n",
        "\n",
        "sample = X_test.iloc[:5].copy()\n",
        "print(\"Proba:\", loaded.predict_proba(sample)[:,1])\n",
        "print(\"Pred :\", loaded.predict(sample))\n"
      ],
      "metadata": {
        "colab": {
          "base_uri": "https://localhost:8080/"
        },
        "id": "dgHU3z-fcaYH",
        "outputId": "f09e2e49-64bf-4def-bb40-5ac24637f23e"
      },
      "execution_count": 21,
      "outputs": [
        {
          "output_type": "stream",
          "name": "stdout",
          "text": [
            "Proba: [0.11831337 0.85193535 0.13976409 0.66658989 0.06180113]\n",
            "Pred : [0 1 0 1 0]\n"
          ]
        }
      ]
    },
    {
      "cell_type": "markdown",
      "source": [
        "## 7a) Feature Engineering\n",
        "\n",
        "- Create **tenure groups** (short, medium, long-term customers)\n",
        "- Bin `MonthlyCharges` into categories\n",
        "- These features often improve churn prediction\n"
      ],
      "metadata": {
        "id": "eI-JsUPEeBze"
      }
    },
    {
      "cell_type": "code",
      "source": [
        "# Create tenure groups\n",
        "df['tenure_group'] = pd.cut(\n",
        "    df['tenure'],\n",
        "    bins=[0, 12, 24, 48, 72],\n",
        "    labels=['0-12', '12-24', '24-48', '48-72']\n",
        ")\n",
        "\n",
        "# Bin MonthlyCharges\n",
        "df['MonthlyCharges_bin'] = pd.cut(\n",
        "    df['MonthlyCharges'],\n",
        "    bins=[0, 35, 70, 100, 150],\n",
        "    labels=['Low', 'Medium', 'High', 'Very High']\n",
        ")\n",
        "\n",
        "# Redefine features\n",
        "X = df.drop(columns=['Churn'])\n",
        "y = df['Churn']\n",
        "\n",
        "numeric_features = X.select_dtypes(include=[np.number]).columns.tolist()\n",
        "categorical_features = X.select_dtypes(exclude=[np.number]).columns.tolist()\n",
        "\n",
        "print(\"Numeric:\", numeric_features)\n",
        "print(\"Categorical:\", categorical_features)\n"
      ],
      "metadata": {
        "colab": {
          "base_uri": "https://localhost:8080/"
        },
        "id": "bAQDNv8achXP",
        "outputId": "7595f56c-43e1-4835-8e4b-34517b7d7aec"
      },
      "execution_count": 16,
      "outputs": [
        {
          "output_type": "stream",
          "name": "stdout",
          "text": [
            "Numeric: ['SeniorCitizen', 'tenure', 'MonthlyCharges', 'TotalCharges']\n",
            "Categorical: ['gender', 'Partner', 'Dependents', 'PhoneService', 'MultipleLines', 'InternetService', 'OnlineSecurity', 'OnlineBackup', 'DeviceProtection', 'TechSupport', 'StreamingTV', 'StreamingMovies', 'Contract', 'PaperlessBilling', 'PaymentMethod', 'tenure_group', 'MonthlyCharges_bin']\n"
          ]
        }
      ]
    },
    {
      "cell_type": "markdown",
      "source": [
        "## 7b) Advanced Model — XGBoost\n",
        "\n",
        "- Add XGBoost into the pipeline\n",
        "- Tune `n_estimators`, `max_depth`, `learning_rate`\n"
      ],
      "metadata": {
        "id": "-tOt0nWBeGgt"
      }
    },
    {
      "cell_type": "code",
      "source": [
        "from xgboost import XGBClassifier\n",
        "\n",
        "# Same preprocess pipeline as before\n",
        "pipe_xgb = Pipeline(steps=[\n",
        "    ('preprocess', preprocess),\n",
        "    ('clf', XGBClassifier(\n",
        "        eval_metric='logloss',\n",
        "        use_label_encoder=False,\n",
        "        random_state=42\n",
        "    ))\n",
        "])\n",
        "\n",
        "param_grid_xgb = {\n",
        "    'clf__n_estimators': [100, 200],\n",
        "    'clf__max_depth': [3, 6],\n",
        "    'clf__learning_rate': [0.05, 0.1]\n",
        "}\n",
        "\n",
        "grid_xgb = GridSearchCV(\n",
        "    pipe_xgb,\n",
        "    param_grid=param_grid_xgb,\n",
        "    cv=cv,\n",
        "    scoring='roc_auc',\n",
        "    n_jobs=-1,\n",
        "    verbose=1\n",
        ")\n",
        "\n",
        "grid_xgb.fit(X_train, y_train)\n",
        "best_xgb = grid_xgb.best_estimator_\n",
        "\n",
        "print(\"Best XGBoost Params:\", grid_xgb.best_params_)\n",
        "print(\"Best XGBoost CV ROC-AUC:\", grid_xgb.best_score_)\n"
      ],
      "metadata": {
        "colab": {
          "base_uri": "https://localhost:8080/"
        },
        "id": "EKdtegZmeEcb",
        "outputId": "f530fb86-6695-4b7c-a461-7e077d2c20f3"
      },
      "execution_count": 17,
      "outputs": [
        {
          "output_type": "stream",
          "name": "stdout",
          "text": [
            "Fitting 5 folds for each of 8 candidates, totalling 40 fits\n",
            "Best XGBoost Params: {'clf__learning_rate': 0.05, 'clf__max_depth': 3, 'clf__n_estimators': 100}\n",
            "Best XGBoost CV ROC-AUC: 0.8489319672905091\n"
          ]
        },
        {
          "output_type": "stream",
          "name": "stderr",
          "text": [
            "/usr/local/lib/python3.12/dist-packages/xgboost/training.py:183: UserWarning: [05:04:22] WARNING: /workspace/src/learner.cc:738: \n",
            "Parameters: { \"use_label_encoder\" } are not used.\n",
            "\n",
            "  bst.update(dtrain, iteration=i, fobj=obj)\n"
          ]
        }
      ]
    },
    {
      "cell_type": "markdown",
      "source": [
        "## 8b) Threshold Tuning for Precision-Recall Tradeoff\n",
        "\n",
        "- Default threshold = 0.5 may not be optimal\n",
        "- Use Precision-Recall curve to find best tradeoff\n"
      ],
      "metadata": {
        "id": "_nxzH60TeMup"
      }
    },
    {
      "cell_type": "code",
      "source": [
        "from sklearn.metrics import precision_recall_curve\n",
        "\n",
        "y_prob_xgb = best_xgb.predict_proba(X_test)[:, 1]\n",
        "\n",
        "precisions, recalls, thresholds = precision_recall_curve(y_test, y_prob_xgb)\n",
        "\n",
        "# Plot precision-recall vs threshold\n",
        "plt.figure(figsize=(8,5))\n",
        "plt.plot(thresholds, precisions[:-1], label=\"Precision\")\n",
        "plt.plot(thresholds, recalls[:-1], label=\"Recall\")\n",
        "plt.xlabel(\"Threshold\")\n",
        "plt.ylabel(\"Score\")\n",
        "plt.title(\"Precision-Recall vs Threshold (XGBoost)\")\n",
        "plt.legend()\n",
        "plt.grid(True)\n",
        "plt.show()\n",
        "\n",
        "# Choose threshold ~0.55 (example: balance between precision & recall)\n",
        "opt_thresh = 0.55\n",
        "y_pred_thresh = (y_prob_xgb >= opt_thresh).astype(int)\n",
        "\n",
        "print(\"At threshold =\", opt_thresh)\n",
        "print(\"Precision:\", precision_score(y_test, y_pred_thresh))\n",
        "print(\"Recall   :\", recall_score(y_test, y_pred_thresh))\n",
        "print(\"F1-score :\", f1_score(y_test, y_pred_thresh))\n",
        "print(\"ROC-AUC  :\", roc_auc_score(y_test, y_prob_xgb))\n"
      ],
      "metadata": {
        "colab": {
          "base_uri": "https://localhost:8080/",
          "height": 574
        },
        "id": "4wsPYz3SeIGl",
        "outputId": "c980fcd8-a693-4fba-bcc7-d826768b923d"
      },
      "execution_count": 18,
      "outputs": [
        {
          "output_type": "display_data",
          "data": {
            "text/plain": [
              "<Figure size 800x500 with 1 Axes>"
            ],
            "image/png": "[encoded data removed]"
          },
          "metadata": {}
        },
        {
          "output_type": "stream",
          "name": "stdout",
          "text": [
            "At threshold = 0.55\n",
            "Precision: 0.7072072072072072\n",
            "Recall   : 0.4197860962566845\n",
            "F1-score : 0.5268456375838926\n",
            "ROC-AUC  : 0.8457503422976569\n"
          ]
        }
      ]
    },
    {
      "cell_type": "markdown",
      "source": [
        "## 9) Export Final Tuned Pipeline\n",
        "\n",
        "We’ll export the **XGBoost pipeline** as our best model.\n"
      ],
      "metadata": {
        "id": "UeSv-LLAeQsc"
      }
    },
    {
      "cell_type": "code",
      "source": [
        "joblib.dump(best_xgb, \"telco_churn_pipeline_xgb.joblib\")\n",
        "print(\"Saved: telco_churn_pipeline_xgb.joblib\")\n",
        "\n",
        "from google.colab import files\n",
        "files.download(\"telco_churn_pipeline_xgb.joblib\")\n"
      ],
      "metadata": {
        "colab": {
          "base_uri": "https://localhost:8080/",
          "height": 34
        },
        "id": "t_c3LQMQeOw1",
        "outputId": "0540ac82-1ef1-422c-d137-08411c7a2d6c"
      },
      "execution_count": 19,
      "outputs": [
        {
          "output_type": "stream",
          "name": "stdout",
          "text": [
            "Saved: telco_churn_pipeline_xgb.joblib\n"
          ]
        },
        {
          "output_type": "display_data",
          "data": {
            "text/plain": [
              "<IPython.core.display.Javascript object>"
            ],
            "application/javascript": [
              "\n",
              "    async function download(id, filename, size) {\n",
              "      if (!google.colab.kernel.accessAllowed) {\n",
              "        return;\n",
              "      }\n",
              "      const div = document.createElement('div');\n",
              "      const label = document.createElement('label');\n",
              "      label.textContent = `Downloading \"${filename}\": `;\n",
              "      div.appendChild(label);\n",
              "      const progress = document.createElement('progress');\n",
              "      progress.max = size;\n",
              "      div.appendChild(progress);\n",
              "      document.body.appendChild(div);\n",
              "\n",
              "      const buffers = [];\n",
              "      let downloaded = 0;\n",
              "\n",
              "      const channel = await google.colab.kernel.comms.open(id);\n",
              "      // Send a message to notify the kernel that we're ready.\n",
              "      channel.send({})\n",
              "\n",
              "      for await (const message of channel.messages) {\n",
              "        // Send a message to notify the kernel that we're ready.\n",
              "        channel.send({})\n",
              "        if (message.buffers) {\n",
              "          for (const buffer of message.buffers) {\n",
              "            buffers.push(buffer);\n",
              "            downloaded += buffer.byteLength;\n",
              "            progress.value = downloaded;\n",
              "          }\n",
              "        }\n",
              "      }\n",
              "      const blob = new Blob(buffers, {type: 'application/binary'});\n",
              "      const a = document.createElement('a');\n",
              "      a.href = window.URL.createObjectURL(blob);\n",
              "      a.download = filename;\n",
              "      div.appendChild(a);\n",
              "      a.click();\n",
              "      div.remove();\n",
              "    }\n",
              "  "
            ]
          },
          "metadata": {}
        },
        {
          "output_type": "display_data",
          "data": {
            "text/plain": [
              "<IPython.core.display.Javascript object>"
            ],
            "application/javascript": [
              "download(\"download_3df8e37d-dc15-4035-9142-ae5a6dcbbc0b\", \"telco_churn_pipeline_xgb.joblib\", 128193)"
            ]
          },
          "metadata": {}
        }
      ]
    },
    {
      "cell_type": "markdown",
      "source": [
        "### Final Insights\n",
        "- Logistic Regression & Random Forest gave ROC-AUC ~0.84, with recall ~0.78 but precision ~0.50.\n",
        "- XGBoost performed slightly better (ROC-AUC ~0.846).\n",
        "- By adjusting threshold from 0.5 → 0.55, precision improved to ~0.71 (fewer false alarms), at the cost of recall (~0.42).\n",
        "- **Business tradeoff:** If the company values *catching every churner*, keep threshold = 0.5.  \n",
        "  If the company values *targeting only likely churners* (to save resources), use threshold = 0.55.  \n"
      ],
      "metadata": {
        "id": "gX2F2skBfMwC"
      }
    },
    {
      "cell_type": "code",
      "source": [],
      "metadata": {
        "id": "tDtGK4ZPew1R"
      },
      "execution_count": null,
      "outputs": []
    }
  ]
}